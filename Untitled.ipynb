{
 "cells": [
  {
   "cell_type": "code",
   "execution_count": 3,
   "id": "eafb4f0a-45d9-491f-914f-d6a2a789f019",
   "metadata": {},
   "outputs": [
    {
     "name": "stdout",
     "output_type": "stream",
     "text": [
      "['False', 'None', 'True', 'and', 'as', 'assert', 'async', 'await', 'break', 'class', 'continue', 'def', 'del', 'elif', 'else', 'except', 'finally', 'for', 'from', 'global', 'if', 'import', 'in', 'is', 'lambda', 'nonlocal', 'not', 'or', 'pass', 'raise', 'return', 'try', 'while', 'with', 'yield']\n"
     ]
    },
    {
     "data": {
      "text/plain": [
       "35"
      ]
     },
     "execution_count": 3,
     "metadata": {},
     "output_type": "execute_result"
    }
   ],
   "source": [
    "import keyword as k\n",
    "print(k.kwlist)\n",
    "len(k.kwlist)"
   ]
  },
  {
   "cell_type": "markdown",
   "id": "54a66619-2633-4ade-b288-276e4b166f71",
   "metadata": {},
   "source": [
    "# Python Question "
   ]
  },
  {
   "cell_type": "markdown",
   "id": "f02fcb85-0d20-4336-b701-9f23319e1ec6",
   "metadata": {},
   "source": [
    "Q1. Write a Python Program which will calculate area and circumference of rectangle ?"
   ]
  },
  {
   "cell_type": "code",
   "execution_count": 8,
   "id": "7f9630b0-4e52-4e97-9db3-336c297df4df",
   "metadata": {},
   "outputs": [
    {
     "name": "stdin",
     "output_type": "stream",
     "text": [
      "Enter the length: 10\n",
      "Enter the breadth: 5\n"
     ]
    },
    {
     "name": "stdout",
     "output_type": "stream",
     "text": [
      "--------------------------------------------------\n",
      "The Area of Rectangle is 50\n",
      "The Perimeter of the Rectangle is 30\n",
      "--------------------------------------------------\n"
     ]
    }
   ],
   "source": [
    "l = eval(input('Enter the length:'))\n",
    "b = eval(input('Enter the breadth:'))\n",
    "print('-'*50)\n",
    "print(f'The Area of Rectangle is {l*b}')\n",
    "print(f'The Perimeter of the Rectangle is {2*(l+b)}')\n",
    "print('-'*50)"
   ]
  },
  {
   "cell_type": "markdown",
   "id": "b70d15fd-0807-44d6-a1f2-873a6b8c2d56",
   "metadata": {},
   "source": [
    "Q2. Write a python program which will calculate simple interest by accepting principal amount, rate of interest and time. Calculate total amount to pay?"
   ]
  },
  {
   "cell_type": "code",
   "execution_count": 9,
   "id": "1ab2b635-dd86-49cb-a638-d07d46e41f4d",
   "metadata": {},
   "outputs": [
    {
     "name": "stdin",
     "output_type": "stream",
     "text": [
      "Enter the principal amount: 1000\n",
      "Enter the rate of interest: 2\n",
      "Enter the time period: 2\n"
     ]
    },
    {
     "name": "stdout",
     "output_type": "stream",
     "text": [
      "--------------------------------------------------\n",
      "The simple interest is 40.0\n",
      "The total amount pay after the interest is 1040.0\n",
      "--------------------------------------------------\n"
     ]
    }
   ],
   "source": [
    "p= eval(input('Enter the principal amount:'))\n",
    "r= eval(input('Enter the rate of interest:'))\n",
    "t= eval(input('Enter the time period:'))\n",
    "si = (p*t*r)/100\n",
    "totamt = p + si\n",
    "print('-'*50)\n",
    "print(f'The simple interest is {si}')\n",
    "print(f'The total amount pay after the interest is {totamt}')\n",
    "print('-'*50)"
   ]
  },
  {
   "cell_type": "markdown",
   "id": "10b71091-022a-4f66-afd6-3de3f1cccc57",
   "metadata": {},
   "source": [
    "Q3. Write a python program for calculating area and circumference of square by accpeting side value from KBD?"
   ]
  },
  {
   "cell_type": "code",
   "execution_count": 10,
   "id": "8075114b-f1ac-498a-adca-368523bb33aa",
   "metadata": {},
   "outputs": [
    {
     "name": "stdin",
     "output_type": "stream",
     "text": [
      "Enter the side: 4\n"
     ]
    },
    {
     "name": "stdout",
     "output_type": "stream",
     "text": [
      "--------------------------------------------------\n",
      "Area of the Square is 16\n",
      "The perimeter of the square is 16\n",
      "--------------------------------------------------\n"
     ]
    }
   ],
   "source": [
    "s = eval(input('Enter the side:'))\n",
    "area = s * s\n",
    "per = 4 * s\n",
    "print('-'*50)\n",
    "print(f'Area of the Square is {area}')\n",
    "print(f'The perimeter of the square is {per}')\n",
    "print('-'*50)"
   ]
  },
  {
   "cell_type": "markdown",
   "id": "76b9f074-89bb-4ca3-9449-9f8e61bb2a3f",
   "metadata": {},
   "source": [
    "Q4. Write a python program for calculating area of triangle by accepting base and height from KBD?"
   ]
  },
  {
   "cell_type": "code",
   "execution_count": 11,
   "id": "3a9c1623-2279-4e65-bcaa-90cd15b7c532",
   "metadata": {},
   "outputs": [
    {
     "name": "stdin",
     "output_type": "stream",
     "text": [
      "Enter the base : 10\n",
      "Enter the height : 2\n"
     ]
    },
    {
     "name": "stdout",
     "output_type": "stream",
     "text": [
      "--------------------------------------------------\n",
      "Area of the triangle is 10.0\n",
      "--------------------------------------------------\n"
     ]
    }
   ],
   "source": [
    "b = eval(input('Enter the base :'))\n",
    "h = eval(input('Enter the height :'))\n",
    "area = 0.5 * b * h\n",
    "print('-'*50)\n",
    "print(f'Area of the triangle is {area}')\n",
    "print('-'*50)"
   ]
  },
  {
   "cell_type": "code",
   "execution_count": 20,
   "id": "00b92bdd-83ac-4195-8f70-776ef7fdf251",
   "metadata": {},
   "outputs": [
    {
     "name": "stdin",
     "output_type": "stream",
     "text": [
      "Enter the Student Number: 1\n",
      "Enter any name/place/thing: dfghjkl\n"
     ]
    },
    {
     "name": "stdout",
     "output_type": "stream",
     "text": [
      "dfghjkl is valid name\n"
     ]
    },
    {
     "name": "stdin",
     "output_type": "stream",
     "text": [
      "Enter Student C Lang Mark: 55\n",
      "Enter Student CPP Lang Mark: 65\n",
      "Enter Student Python Mark: 75\n"
     ]
    },
    {
     "name": "stdout",
     "output_type": "stream",
     "text": [
      "**************************************************\n",
      "\t\t STUDENT MARKS REPORT\n",
      "**************************************************\n",
      "\t\t Student Roll NO. : 1\n",
      "\t\t Student Name : dfghjkl\n",
      "\t\t Student Marks in C : 55\n",
      "\t\t Student Marks in CPP : 65\n",
      "\t\t Student Marks in Python : 75\n",
      "--------------------------------------------------\n",
      "\t\t Student Total Marks : 195\n",
      "\t\t Student Percentage of Marks : 65.0\n",
      "\t\t Student Result : Second\n",
      "**************************************************\n"
     ]
    }
   ],
   "source": [
    "#Validation of Student Number\n",
    "while(True):\n",
    "    sno=input('Enter the Student Number:')\n",
    "    if(sno.isdigit()):\n",
    "        if(int(sno)>0):\n",
    "            break\n",
    "        else:\n",
    "            print(f'\\t{sno} is invalid input for Student Number - Try Again ')\n",
    "    else:\n",
    "        print(f'\\t{sno} is invalid input for Student number - Try Again')\n",
    "\n",
    "#Validation of Student Name\n",
    "while(True):\n",
    "    sname=input('Enter any name/place/thing:')\n",
    "    words=sname.split()\n",
    "    res=True\n",
    "    for word in words:\n",
    "        if(not word.isalpha()):\n",
    "            res=False\n",
    "            break\n",
    "        \n",
    "    if(res):\n",
    "        print(f'{sname} is valid name')\n",
    "        break\n",
    "    else:    \n",
    "        print(f'{sname} is not valid name')\n",
    "#Validation of C lang Marks\n",
    "while(True):\n",
    "    clm=input('Enter Student C Lang Mark:')\n",
    "    if(clm.isdigit()):\n",
    "        cm=int(clm)\n",
    "        if(0<=cm<=100):\n",
    "            break\n",
    "        else:\n",
    "            print(f'\\t{cm} invalid C Lang Mark - Try Again')\n",
    "    else:\n",
    "        print(f'\\t{clm} invalid input for C Lang Mark - Try Again')\n",
    "\n",
    "#Validation of CPP lang Marks\n",
    "while(True):\n",
    "    cpplm=input('Enter Student CPP Lang Mark:')\n",
    "    if(cpplm.isdigit()):\n",
    "        cppm=int(cpplm)\n",
    "        if(0<=cppm<=100):\n",
    "            break\n",
    "        else:\n",
    "            print(f'\\t{cppm} invalid CPP Lang Mark')\n",
    "    else:\n",
    "        print(f'\\t{cpplm} invalid input for CPP Lang Mark')\n",
    "\n",
    "#Validation of Python lang Marks\n",
    "while(True):\n",
    "    pytlm=input('Enter Student Python Mark:')\n",
    "    if(pytlm.isdigit()):\n",
    "        pytm=int(pytlm)\n",
    "        if(0<=pytm<=100):\n",
    "            break\n",
    "        else:\n",
    "            print(f'\\t{pytm} invalid CPP Lang Mark')\n",
    "    else:\n",
    "        print(f'\\t{pytlm} invalid input for CPP Lang Mark')\n",
    "\n",
    "#total marks\n",
    "totmark = cm + cppm + pytm\n",
    "percent = round((totmark/300)*100,2)\n",
    "\n",
    "if (cm < 40) or (cppm < 40) or (pytm < 40):\n",
    "    grade = 'Fail'\n",
    "elif (250 <= totmark <= 300):\n",
    "    grade = 'Distinction'\n",
    "elif (200 <= totmark <= 249):\n",
    "    grade = 'First'\n",
    "elif (150 <= totmark <= 199):\n",
    "    grade = 'Second'\n",
    "elif (120 <= totmark <= 149):\n",
    "    grade = 'Third'\n",
    "\n",
    "# Display The Student Marks Report\n",
    "print('*'*50)\n",
    "print('\\t\\t STUDENT MARKS REPORT')\n",
    "print('*'*50)\n",
    "print(f'\\t\\t Student Roll NO. : {sno}')\n",
    "print(f'\\t\\t Student Name : {sname}')\n",
    "print(f'\\t\\t Student Marks in C : {cm}')\n",
    "print(f'\\t\\t Student Marks in CPP : {cppm}')\n",
    "print(f'\\t\\t Student Marks in Python : {pytm}')\n",
    "print('-'*50)\n",
    "print(f'\\t\\t Student Total Marks : {totmark}')\n",
    "print(f'\\t\\t Student Percentage of Marks : {percent}')\n",
    "print(f'\\t\\t Student Result : {grade}')\n",
    "print('*'*50)"
   ]
  },
  {
   "cell_type": "code",
   "execution_count": 18,
   "id": "1dc91286-2622-474c-a55d-eae89d5747b4",
   "metadata": {},
   "outputs": [
    {
     "name": "stdin",
     "output_type": "stream",
     "text": [
      "Enter any name/place/thing: Sourabh sahu\n"
     ]
    },
    {
     "name": "stdout",
     "output_type": "stream",
     "text": [
      "Given line : Sourabh sahu\n",
      "Sourabh sahu is valid name\n"
     ]
    }
   ],
   "source": [
    "while(True):\n",
    "    line=input('Enter any name/place/thing:')\n",
    "    print(f'Given line : {line}')\n",
    "    words=line.split()\n",
    "    res=True\n",
    "    for word in words:\n",
    "        if(not word.isalpha()):\n",
    "            res=False\n",
    "            break\n",
    "        \n",
    "    if(res):\n",
    "        print(f'{line} is valid name')\n",
    "        break\n",
    "    else:    \n",
    "        print(f'{line} is not valid name')"
   ]
  },
  {
   "cell_type": "code",
   "execution_count": null,
   "id": "e7fef63f-351e-4eee-ba5a-733b4523857c",
   "metadata": {},
   "outputs": [],
   "source": []
  }
 ],
 "metadata": {
  "kernelspec": {
   "display_name": "Python 3 (ipykernel)",
   "language": "python",
   "name": "python3"
  },
  "language_info": {
   "codemirror_mode": {
    "name": "ipython",
    "version": 3
   },
   "file_extension": ".py",
   "mimetype": "text/x-python",
   "name": "python",
   "nbconvert_exporter": "python",
   "pygments_lexer": "ipython3",
   "version": "3.12.4"
  }
 },
 "nbformat": 4,
 "nbformat_minor": 5
}
